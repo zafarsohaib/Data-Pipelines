import boto3

s3 = boto3.resource('s3')
my_bucket = s3.Bucket('udacity-dend')

for object_summary in my_bucket.objects.filter(Prefix="dir_name/"):
    print(object_summary.key)